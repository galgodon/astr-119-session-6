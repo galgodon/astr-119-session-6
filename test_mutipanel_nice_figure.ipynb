{
 "cells": [
  {
   "cell_type": "markdown",
   "metadata": {},
   "source": [
    "# Making multipanel plots with matplotlib\n",
    "First, we import numpy and matplotlib as usual"
   ]
  },
  {
   "cell_type": "code",
   "execution_count": null,
   "metadata": {},
   "outputs": [],
   "source": [
    "%matplotlib inline\n",
    "import numpy as np\n",
    "import matplotlib.pyplot as plt"
   ]
  },
  {
   "cell_type": "markdown",
   "metadata": {},
   "source": [
    "Then we degine an array of angkes and their sines and cosines using numpy. This time we will use linspace."
   ]
  },
  {
   "cell_type": "code",
   "execution_count": null,
   "metadata": {},
   "outputs": [],
   "source": [
    "x = np.linspace(0,2*np.pi,100)\n",
    "print(x[-1],2*np.pi) # plot the last value of x and compare it to 2pi\n",
    "\n",
    "y = np.sin(x)\n",
    "z = np.cos(x)\n",
    "w = np.sin(4*x)\n",
    "v = np.cos(4*x)"
   ]
  },
  {
   "cell_type": "markdown",
   "metadata": {},
   "source": [
    "Now lets make two panel plots side-by-side"
   ]
  },
  {
   "cell_type": "code",
   "execution_count": null,
   "metadata": {},
   "outputs": [],
   "source": [
    "f, axarr = plt.subplots(1,2)      # 1 row and 2 columns\n",
    "\n",
    "# first panel\n",
    "axarr[0].plot(x,y)                # array of axes, the first panel is the 0th index\n",
    "axarr[0].set_xlabel('x')\n",
    "axarr[0].set_ylabel('sin(x)')\n",
    "axarr[0].set_title(r'$\\sin(x)$')\n",
    "\n",
    "# second panel\n",
    "axarr[1].plot(x,z)                \n",
    "axarr[1].set_xlabel('x')\n",
    "axarr[1].set_ylabel('cos(x)')\n",
    "axarr[1].set_title(r'$\\cos(x)$')\n",
    "\n",
    "plt.show()"
   ]
  },
  {
   "cell_type": "code",
   "execution_count": null,
   "metadata": {},
   "outputs": [],
   "source": [
    "f, axarr = plt.subplots(1,2)      # 1 row and 2 columns\n",
    "\n",
    "# first panel\n",
    "axarr[0].plot(x,y)                # array of axes, the first panel is the 0th index\n",
    "axarr[0].set_xlabel('x')\n",
    "axarr[0].set_ylabel('sin(x)')\n",
    "axarr[0].set_title(r'$\\sin(x)$')\n",
    "\n",
    "# second panel\n",
    "axarr[1].plot(x,z)                \n",
    "axarr[1].set_xlabel('x')\n",
    "axarr[1].set_ylabel('cos(x)')\n",
    "axarr[1].set_title(r'$\\cos(x)$')\n",
    "\n",
    "# fix the squishiness\n",
    "f.subplots_adjust(wspace=0.4)   # take figure f and adjust all of its subplots\n",
    "                                # to have a width of 0.4\n",
    "plt.show()"
   ]
  },
  {
   "cell_type": "code",
   "execution_count": null,
   "metadata": {},
   "outputs": [],
   "source": [
    "f, axarr = plt.subplots(1,2)      # 1 row and 2 columns\n",
    "\n",
    "# first panel\n",
    "axarr[0].plot(x,y)                # array of axes, the first panel is the 0th index\n",
    "axarr[0].set_xlabel('x')\n",
    "axarr[0].set_ylabel('sin(x)')\n",
    "axarr[0].set_title(r'$\\sin(x)$')\n",
    "\n",
    "# second panel\n",
    "axarr[1].plot(x,z)                \n",
    "axarr[1].set_xlabel('x')\n",
    "axarr[1].set_ylabel('cos(x)')\n",
    "axarr[1].set_title(r'$\\cos(x)$')\n",
    "\n",
    "# fix the squishiness\n",
    "f.subplots_adjust(wspace=0.4)   # take figure f and adjust all of its subplots\n",
    "                                # to have a width of 0.4\n",
    "# fix axis ratios\n",
    "axarr[0].set_aspect('equal')    # makes distance from 0-1 same for x and y, DOES NOT MAKE IT A SQUARE\n",
    "axarr[1].set_aspect(np.pi)      # y/x = pi\n",
    "\n",
    "plt.show()"
   ]
  },
  {
   "cell_type": "code",
   "execution_count": null,
   "metadata": {},
   "outputs": [],
   "source": [
    "fig = plt.figure(figsize=(6,6))      # makes figure 6in x 6in\n",
    "\n",
    "plt.plot(x,y,label=r'$y = \\sin(x)$')\n",
    "plt.plot(x,z,label=r'$z = \\cos(x)$')\n",
    "plt.plot(x,w,label=r'$w = \\sin(4x)$')\n",
    "plt.plot(x,v,label=r'$v = \\cos(x)$')\n",
    "\n",
    "plt.xlabel(r'$x$')\n",
    "plt.xlabel(r'$y(x)$')\n",
    "plt.xlim([0,2*np.pi])\n",
    "plt.ylim([-1.2,1.2])\n",
    "plt.legend(loc=1,framealpha=0.95)           # loc=1,2,3,4 = upper right, upper left, lower left, lower right\n",
    "\n",
    "plt.gca().set_aspect(np.pi/1.2)   # gca Gets Current Axis. 2pi/(1.2-(-1.2))"
   ]
  },
  {
   "cell_type": "code",
   "execution_count": null,
   "metadata": {},
   "outputs": [],
   "source": []
  }
 ],
 "metadata": {
  "kernelspec": {
   "display_name": "Python 3",
   "language": "python",
   "name": "python3"
  },
  "language_info": {
   "codemirror_mode": {
    "name": "ipython",
    "version": 3
   },
   "file_extension": ".py",
   "mimetype": "text/x-python",
   "name": "python",
   "nbconvert_exporter": "python",
   "pygments_lexer": "ipython3",
   "version": "3.6.5"
  }
 },
 "nbformat": 4,
 "nbformat_minor": 2
}
