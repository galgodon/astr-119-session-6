{
 "cells": [
  {
   "cell_type": "code",
   "execution_count": null,
   "metadata": {},
   "outputs": [],
   "source": [
    "%matplotlib inline\n",
    "import matplotlib.pyplot as plt\n",
    "import numpy as np"
   ]
  },
  {
   "cell_type": "code",
   "execution_count": null,
   "metadata": {},
   "outputs": [],
   "source": [
    "# set a random seed\n",
    "np.random.seed(119)    # otherwise will use a random seed evertime\n",
    "\n",
    "# set number of data points\n",
    "npoints = 50\n",
    "\n",
    "# set x\n",
    "x = np.linspace(0,10.0,npoints)\n",
    "\n",
    "# set slope, intercept, and scatter rms\n",
    "m = 1.0\n",
    "b = 1.0\n",
    "sigma = 2.0\n",
    "\n",
    "# generate y points\n",
    "y = m*x + b + np.random.normal(scale=sigma,size=npoints)\n",
    "                # this part makes it noisy, bigger sigma means even more noisy\n",
    "y_err = np.full(npoints,sigma)"
   ]
  },
  {
   "cell_type": "code",
   "execution_count": null,
   "metadata": {},
   "outputs": [],
   "source": [
    "f = plt.figure(figsize=(7,7))\n",
    "plt.errorbar(x,y,sigma,fmt='o')\n",
    "plt.xlabel('x')\n",
    "plt.ylabel('y')\n",
    "plt.show()"
   ]
  },
  {
   "cell_type": "code",
   "execution_count": null,
   "metadata": {},
   "outputs": [],
   "source": [
    "m_fit,b_fit = np.poly1d(np.polyfit(x,y,1,w=1./y_err))\n",
    "print(m_fit,b_fit)\n",
    "\n",
    "y_fit = m_fit * x + b_fit"
   ]
  },
  {
   "cell_type": "code",
   "execution_count": null,
   "metadata": {},
   "outputs": [],
   "source": [
    "f = plt.figure(figsize=(7,7))\n",
    "\n",
    "plt.errorbar(x,y,yerr=y_err,fmt='o',label='data')\n",
    "plt.plot(x,m*x+b,label='seed')\n",
    "plt.plot(x,y_fit,label='fit')\n",
    "plt.xlabel('x')\n",
    "plt.ylabel('y')\n",
    "plt.legend(loc=2,frameon=False)\n",
    "plt.show()"
   ]
  },
  {
   "cell_type": "code",
   "execution_count": null,
   "metadata": {},
   "outputs": [],
   "source": []
  }
 ],
 "metadata": {
  "kernelspec": {
   "display_name": "Python 3",
   "language": "python",
   "name": "python3"
  },
  "language_info": {
   "codemirror_mode": {
    "name": "ipython",
    "version": 3
   },
   "file_extension": ".py",
   "mimetype": "text/x-python",
   "name": "python",
   "nbconvert_exporter": "python",
   "pygments_lexer": "ipython3",
   "version": "3.6.5"
  }
 },
 "nbformat": 4,
 "nbformat_minor": 2
}
