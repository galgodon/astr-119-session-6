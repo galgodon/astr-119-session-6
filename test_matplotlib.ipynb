{
 "cells": [
  {
   "cell_type": "code",
   "execution_count": null,
   "metadata": {},
   "outputs": [],
   "source": [
    "%matplotlib inline\n",
    "import numpy as np\n",
    "import matplotlib.pyplot as plt"
   ]
  },
  {
   "cell_type": "code",
   "execution_count": null,
   "metadata": {},
   "outputs": [],
   "source": [
    "x = np.arange(0,5,0.1)  # creates array starting at 0 up until 5 incremented by 0.1\n",
    "y = np.sin(x)           # define y as the sine of the x values\n",
    "plt.plot(x,y)           # plt x against y\n",
    "plt.xlabel('x')         # label for x axis\n",
    "plt.ylabel('sin(x)')    # label for y axis\n",
    "plt.show()              # show the plot"
   ]
  },
  {
   "cell_type": "code",
   "execution_count": null,
   "metadata": {},
   "outputs": [],
   "source": [
    "x = np.arange(0,5,0.1)  # creates array starting at 0 up until 5 incremented by 0.1\n",
    "y = np.sin(x)           # define y as the sine of the x values\n",
    "plt.plot(x,y)           # plt x against y\n",
    "plt.xlabel('x')         # label for x axis\n",
    "plt.ylabel('sin(x)')    # label for y axis\n",
    "plt.savefig('sinx.png',bbox_inches='tight',dpi=600) # saves figure"
   ]
  },
  {
   "cell_type": "code",
   "execution_count": null,
   "metadata": {},
   "outputs": [],
   "source": []
  }
 ],
 "metadata": {
  "kernelspec": {
   "display_name": "Python 3",
   "language": "python",
   "name": "python3"
  },
  "language_info": {
   "codemirror_mode": {
    "name": "ipython",
    "version": 3
   },
   "file_extension": ".py",
   "mimetype": "text/x-python",
   "name": "python",
   "nbconvert_exporter": "python",
   "pygments_lexer": "ipython3",
   "version": "3.6.5"
  }
 },
 "nbformat": 4,
 "nbformat_minor": 2
}
